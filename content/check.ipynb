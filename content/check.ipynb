{
 "cells": [
  {
   "cell_type": "code",
   "execution_count": null,
   "metadata": {},
   "outputs": [],
   "source": [
    "import requests\n",
    "import pandas as pd\n",
    "import ipywidgets as widgets\n",
    "from IPython.display import HTML"
   ]
  },
  {
   "cell_type": "code",
   "execution_count": null,
   "metadata": {},
   "outputs": [],
   "source": [
    "from bqplot import Figure, Scatter, Axis, LinearScale"
   ]
  },
  {
   "cell_type": "code",
   "execution_count": null,
   "metadata": {},
   "outputs": [],
   "source": [
    "EXPLANATION = \"\"\"\\\n",
    "<div class=\"app-sidebar\">\n",
    "<p><em>Check the status of a URL using the requests library.</em><p>\n",
    "\n",
    "<p>Enter a URL in the text box, and click the button to check the response status.</p>\n",
    "</div>\n",
    "\"\"\""
   ]
  },
  {
   "cell_type": "code",
   "execution_count": null,
   "metadata": {},
   "outputs": [],
   "source": [
    "HTML(\"\"\"\\\n",
    "<style>\n",
    ".app-subtitle {\n",
    "    font-size: 1.5em;\n",
    "}\n",
    "\n",
    ".app-subtitle a {\n",
    "    color: #106ba3;\n",
    "}\n",
    "\n",
    ".app-subtitle a:hover {\n",
    "    text-decoration: underline;\n",
    "}\n",
    "\n",
    ".app-sidebar p {\n",
    "    margin-bottom: 1em;\n",
    "    line-height: 1.7;\n",
    "}\n",
    "\n",
    ".app-sidebar a {\n",
    "    color: #106ba3;\n",
    "}\n",
    "\n",
    ".app-sidebar a:hover {\n",
    "    text-decoration: underline;\n",
    "}\n",
    "</style>\n",
    "\"\"\")"
   ]
  },
  {
   "cell_type": "code",
   "execution_count": null,
   "metadata": {},
   "outputs": [],
   "source": [
    "class App:\n",
    "    \n",
    "    def __init__(self):\n",
    "        self._url_input = widgets.Text(\n",
    "            value='https://e4ef-84-216-200-13.ngrok-free.app/v1/chat/completions',\n",
    "            placeholder='Enter URL',\n",
    "            description='URL:',\n",
    "            disabled=False\n",
    "        )\n",
    "        \n",
    "        self._check_button = widgets.Button(\n",
    "            description='Check Status',\n",
    "            disabled=False,\n",
    "            button_style='', # 'success', 'info', 'warning', 'danger' or ''\n",
    "            tooltip='Check the status of the URL',\n",
    "            icon='check'\n",
    "        )\n",
    "        \n",
    "        self._status_output = widgets.Output()\n",
    "        \n",
    "        self._check_button.on_click(self._on_button_click)\n",
    "        \n",
    "        _app_container = widgets.VBox([\n",
    "            widgets.HBox([self._url_input, self._check_button]),\n",
    "            self._status_output\n",
    "        ], layout=widgets.Layout(align_items='center', flex='3 0 auto'))\n",
    "        \n",
    "        self.container = widgets.VBox([\n",
    "            widgets.HTML(\n",
    "                (\n",
    "                    '<h1>URL Status Checker. A Voici dashboard using requests!</h1>'\n",
    "                ), \n",
    "                layout=widgets.Layout(margin='0 0 5em 0')\n",
    "            ),\n",
    "            widgets.HBox([\n",
    "                _app_container, \n",
    "                widgets.HTML(EXPLANATION, layout=widgets.Layout(margin='0 0 0 2em'))\n",
    "            ])\n",
    "        ], layout=widgets.Layout(flex='1 1 auto', margin='0 auto 0 auto', max_width='1024px'))\n",
    "        \n",
    "    def _on_button_click(self, b):\n",
    "        url = self._url_input.value\n",
    "        with self._status_output:\n",
    "            self._status_output.clear_output()\n",
    "            try:\n",
    "                response = requests.get(url)\n",
    "                print(f\"Status Code: {response.status_code}\")\n",
    "                print(f\"Reason: {response.reason}\")\n",
    "            except requests.exceptions.RequestException as e:\n",
    "                print(f\"An error occurred: {e}\")"
   ]
  },
  {
   "cell_type": "code",
   "execution_count": null,
   "metadata": {},
   "outputs": [],
   "source": [
    "app = App()\n",
    "\n",
    "app.container"
   ]
  }
 ],
 "metadata": {
  "language_info": {
   "name": "python"
  }
 },
 "nbformat": 4,
 "nbformat_minor": 2
}
