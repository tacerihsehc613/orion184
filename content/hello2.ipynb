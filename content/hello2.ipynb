{
 "cells": [
  {
   "cell_type": "code",
   "execution_count": null,
   "metadata": {},
   "outputs": [],
   "source": [
    "import os\n",
    "import json\n",
    "import requests\n",
    "import pandas as pd\n",
    "import ipywidgets as widgets\n",
    "from IPython.display import display, HTML"
   ]
  },
  {
   "cell_type": "code",
   "execution_count": null,
   "metadata": {},
   "outputs": [],
   "source": [
    "class App:\n",
    "    \n",
    "    def __init__(self):\n",
    "        # Create a widget that displays \"Hello\"\n",
    "        self._hello_widget = widgets.HTML(\"<h1>Hello</h1>\")\n",
    "        \n",
    "        # Container for the app\n",
    "        self.container = widgets.VBox([\n",
    "            self._hello_widget\n",
    "        ], layout=widgets.Layout(align_items='center', justify_content='center', height='100vh'))"
   ]
  },
  {
   "cell_type": "code",
   "execution_count": null,
   "metadata": {},
   "outputs": [],
   "source": [
    "app = App()\n",
    "\n",
    "# Display the app container\n",
    "app.container"
   ]
  }
 ],
 "metadata": {
  "language_info": {
   "name": "python"
  }
 },
 "nbformat": 4,
 "nbformat_minor": 2
}
