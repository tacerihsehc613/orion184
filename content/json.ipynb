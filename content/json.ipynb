{
 "cells": [
  {
   "cell_type": "code",
   "execution_count": null,
   "metadata": {},
   "outputs": [],
   "source": [
    "import requests\n",
    "from IPython.display import display, HTML\n",
    "import json"
   ]
  },
  {
   "cell_type": "code",
   "execution_count": null,
   "metadata": {},
   "outputs": [],
   "source": [
    "# Define the JSON payload\n",
    "payload = {\n",
    "    \"user_prompt\": \"What other plants can grow well where grapes thrive? Think step by step\"\n",
    "}\n",
    "\n",
    "# Specify the URL\n",
    "url = \"https://71d0-84-216-200-13.ngrok-free.app/v1/chat/completions\"\n",
    "\n",
    "# Set the headers to indicate that you're sending JSON data\n",
    "headers = {\"Content-Type\": \"application/json\"}\n",
    "\n",
    "# Make the POST request with the JSON payload\n",
    "response = requests.post(url, data=json.dumps(payload), headers=headers)"
   ]
  },
  {
   "cell_type": "code",
   "execution_count": null,
   "metadata": {},
   "outputs": [],
   "source": [
    "# Check if the request was successful\n",
    "if response.status_code == 200:\n",
    "    # Extract the content from the response (assuming it's JSON)\n",
    "    response_json = response.json()\n",
    "    \n",
    "    # You might need to adjust the path to extract the relevant information from the response\n",
    "    result_text = response_json.get(\"choices\", [{}])[0].get(\"message\", {}).get(\"content\", \"No content found\")\n",
    "    \n",
    "    # Display the result as HTML\n",
    "    display(HTML(f\"<pre>{result_text}</pre>\"))\n",
    "else:\n",
    "    # Display an error message if the request failed\n",
    "    display(HTML(f\"<pre>Request failed with status code {response.status_code}: {response.text}</pre>\"))\n"
   ]
  }
 ],
 "metadata": {
  "language_info": {
   "name": "python"
  }
 },
 "nbformat": 4,
 "nbformat_minor": 2
}
