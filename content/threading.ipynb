{
 "cells": [
  {
   "cell_type": "code",
   "execution_count": null,
   "metadata": {},
   "outputs": [],
   "source": [
    "import time\n",
    "import threading\n",
    "import ipywidgets as widgets\n",
    "from IPython.display import display, HTML\n",
    "import threading\n",
    "\n",
    "# Counter and pause widgets\n",
    "btn = widgets.Button(description=\"Trigger\")\n",
    "pause = widgets.Checkbox(value=False, description=\"Paused?\")\n",
    "number = widgets.Label(\"0\")\n",
    "\n",
    "wid = widgets.VBox([btn, number, pause])\n",
    "display(wid)\n",
    "\n",
    "# Function to decrement the number when the button is clicked\n",
    "def triggered(b):\n",
    "    number.value = str(int(number.value) - 1)\n",
    "\n",
    "btn.on_click(triggered)\n",
    "\n",
    "# Function to run the counter in a separate thread\n",
    "def counter(number, pause, total_duration):\n",
    "    for t in range(total_duration):\n",
    "        if not pause.value:\n",
    "            time.sleep(1)\n",
    "            number.value = str(int(number.value) + 1)\n",
    "        elif pause.value:\n",
    "            time.sleep(3)\n",
    "\n",
    "# Start the counter in a separate thread\n",
    "total_duration = 60\n",
    "thread = threading.Thread(target=counter, args=(number, pause, total_duration,))\n",
    "thread.start()\n"
   ]
  }
 ],
 "metadata": {
  "kernelspec": {
   "display_name": "Python 3 (ipykernel)",
   "language": "python",
   "name": "python3"
  },
  "language_info": {
   "codemirror_mode": {
    "name": "ipython",
    "version": 3
   },
   "file_extension": ".py",
   "mimetype": "text/x-python",
   "name": "python",
   "nbconvert_exporter": "python",
   "pygments_lexer": "ipython3",
   "version": "3.11.3"
  }
 },
 "nbformat": 4,
 "nbformat_minor": 2
}
