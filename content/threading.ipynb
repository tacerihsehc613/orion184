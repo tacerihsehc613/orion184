{
 "cells": [
  {
   "cell_type": "code",
   "execution_count": null,
   "metadata": {},
   "outputs": [],
   "source": [
    "import time\n",
    "import threading\n",
    "import ipywidgets as widgets\n",
    "from IPython.display import display, HTML\n",
    "import threading\n",
    "\n",
    "# Counter and pause widgets\n",
    "btn = widgets.Button(description=\"Trigger\")\n",
    "pause = widgets.Checkbox(value=False, description=\"Paused?\")\n",
    "number = widgets.Label(\"0\")\n",
    "\n",
    "wid = widgets.VBox([btn, number, pause])\n",
    "display(wid)\n",
    "\n",
    "# Function to decrement the number when the button is clicked\n",
    "def triggered(b):\n",
    "    number.value = str(int(number.value) - 1)\n",
    "\n",
    "btn.on_click(triggered)\n",
    "\n",
    "# Function to run the counter in a separate thread\n",
    "def counter(number, pause, total_duration):\n",
    "    for t in range(total_duration):\n",
    "        if not pause.value:\n",
    "            time.sleep(1)\n",
    "            number.value = str(int(number.value) + 1)\n",
    "        elif pause.value:\n",
    "            time.sleep(3)\n",
    "\n",
    "# Start the counter in a separate thread\n",
    "total_duration = 60\n",
    "thread = threading.Thread(target=counter, args=(number, pause, total_duration,))\n",
    "thread.start()\n"
   ]
  }
 ],
 "metadata": {
  "language_info": {
   "name": "python"
  }
 },
 "nbformat": 4,
 "nbformat_minor": 2
}
